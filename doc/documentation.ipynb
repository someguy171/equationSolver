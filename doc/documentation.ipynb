{
 "cells": [
  {
   "cell_type": "markdown",
   "metadata": {},
   "source": [
    "# Linear Equation Solver\n",
    "A program to solve linear equations or expressions entered by the user."
   ]
  },
  {
   "cell_type": "markdown",
   "metadata": {},
   "source": [
    "### Success Criteria"
   ]
  },
  {
   "cell_type": "markdown",
   "metadata": {},
   "source": [
    "- Accepts user input via text\n",
    "- Converts user input into equation, formed of various terms and/or brackets\n",
    "- Allows for addition and multiplication\n",
    "    - By proxy, also subtraction\n",
    "    - Simple division (multiplication by decimals)\n",
    "- Simplify expressions\n",
    "- Rearrange equations (= 0)\n",
    "- Solving linear equations"
   ]
  },
  {
   "cell_type": "markdown",
   "metadata": {},
   "source": [
    "## Design"
   ]
  },
  {
   "cell_type": "markdown",
   "metadata": {},
   "source": [
    "This object-oriented project uses the following structure:\n",
    "- <tt>Equations</tt> hold two expressions (left-hand side and right-hand side)\n",
    "    - <tt>Brackets</tt> hold terms, and can have a multiplier\n",
    "        - <tt>Terms</tt> are mathematical terms with only constants\n",
    "        - <tt>Variables</tt> are mathematical terms with unknowns\n",
    "\n",
    "<tt>Variables</tt> are a type of bracket; this bracket holds only one term (with a value of whatever the letter of the unknown is), and has a multiplier acting as the coefficient.\n",
    "<br>For example, <tt>3x</tt> is a <tt>Bracket</tt> containing a <tt>Term</tt> with value \"<tt>x</tt>\", with a multiplier of <tt>3</tt>.\n",
    "<br><tt>3x = 3(\"x\")</tt>\n",
    "\n",
    "<tt>Terms</tt> simply have a value, either positive or negative."
   ]
  },
  {
   "cell_type": "markdown",
   "metadata": {},
   "source": [
    "### User Input\n",
    "<style>\n",
    "    tt {\n",
    "        color: grey;\n",
    "    }\n",
    "</style>\n",
    "\n",
    "<div style=\"display:flex;width:80%;\">\n",
    "    <img src=\"pics/userInput.svg\" style=\"display:inline;margin-right:2rem;max-width:50%;\"> \n",
    "    <p>\n",
    "        The user inputs their equation or expression. If an input does not contain an equals sign, it is assumed to be an expression.\n",
    "        <br><br>The side/expression is broken down into nested brackets, then each term is collected and converted to either a <tt>Term</tt> or <tt>Variable</tt> object.\n",
    "        <br><br>At the end, this is compiled into a <tt>Bracket</tt> object, which is then either returned (if expression), or compiled with another side into an <tt>Equation</tt> object (if equation).\n",
    "    </p>\n",
    "</div>"
   ]
  },
  {
   "cell_type": "markdown",
   "metadata": {},
   "source": [
    "### Simplifying Brackets\n",
    "<div style=\"display:flex;width:80%;\">\n",
    "    <img src=\"pics/simplifyingBrackets.svg\" style=\"display:inline;margin-right:2rem;max-width:50%;\">\n",
    "    <p>\n",
    "        Given a <tt>Bracket</tt> object, with <tt>Term</tt> and/or <tt>Variable</tt> objects within it, the following algorithm collects like terms.\n",
    "    </p>\n",
    "</div>"
   ]
  },
  {
   "cell_type": "markdown",
   "metadata": {},
   "source": [
    "### Rearranging Equations\n",
    "<div style=\"display:flex;width:80%;\">\n",
    "    <img src=\"pics/rearrangingEquations.svg\" style=\"display:inline;margin-right:2rem;max-width:50%;\">\n",
    "    <p>\n",
    "        Given an <tt>Equation</tt> object, with <tt>Bracket</tt> objects in both sides, this algorithm rearranges the equation, so that the LHS is 0.\n",
    "        <br><br>This prepares for the bisection method used to solve the equation.\n",
    "    </p>\n",
    "</div>"
   ]
  },
  {
   "cell_type": "markdown",
   "metadata": {},
   "source": [
    "### Solving Equations\n",
    "<div style=\"display:flex;width:80%;\">\n",
    "    <img src=\"pics/solvingEquations.svg\" style=\"display:inline;margin-right:2rem;max-width:50%;\">\n",
    "    <p>\n",
    "        Having rearranged the equation, the <b>bisection method</b> is used to find the root of the equation.\n",
    "        <br><br>\n",
    "        The bisection method uses two x-coordinates (x<sub>1</sub> and x<sub>2</sub>), where the root of the equation is within this range.\n",
    "        <br><br>Assuming f(x) = the equation entered, f(x<sub>1</sub>) and f(x<sub>2</sub>) are found, as well as the f(midpoint of x<sub>1</sub> and x<sub>2</sub>).\n",
    "        <br><br>If f(midpoint of x<sub>1</sub> and x<sub>2</sub>) is greater than 0, the value is too high; x<sub>2</sub> is moved down to the midpoint.\n",
    "        <br>If f(midpoint of x<sub>1</sub> and x<sub>2</sub>) is less than 0, the value is too low; x<sub>1</sub> is moved up to the midpoint.\n",
    "        <br><br>This doubles the accuracy of the estimation. The midpoint is calculated from the new adjusted x-values, and they are substituted into f(x).\n",
    "        <br><br>An error margin is chosen during this process; once the difference between f(x<sub>1</sub>) and f(x<sub>2</sub>) is smaller than this margin, the estimation is considered accurate enough, and the midpoint of these two values is used as the final answer.\n",
    "    </p>\n",
    "</div>"
   ]
  },
  {
   "cell_type": "markdown",
   "metadata": {},
   "source": [
    "## Code"
   ]
  },
  {
   "cell_type": "markdown",
   "metadata": {},
   "source": [
    "Code is split into two python files:\n",
    "- `userInput.py` is the main file of the project. It contains all functions surrounding formatting the user's input, and uses the classes from `classes.py` to perform the simplifying, solving, etc.\n",
    "- `classes.py` contains the classes for Terms, Variables and Equations. It is imported into userInput."
   ]
  },
  {
   "cell_type": "markdown",
   "metadata": {},
   "source": [
    "### Term Class\n",
    "A class for <tt>Term</tt> objects, which have no unknown.\n",
    "<br>Terms have a value to be added, and an identifier."
   ]
  },
  {
   "cell_type": "code",
   "execution_count": null,
   "metadata": {},
   "outputs": [],
   "source": [
    "# a class for Term objects\n",
    "class Term():\n",
    "    # each Term has a sign and value\n",
    "    def __init__(self, value):\n",
    "        self.value = value\n",
    "        self.id = \"Term\""
   ]
  },
  {
   "cell_type": "markdown",
   "metadata": {},
   "source": [
    "### Variable Class\n",
    "A class for <tt>Variable</tt> objects, which have an unknown.\n",
    "The class is a child class (parent <tt>Bracket</tt>); the bracket contains one <tt>Term</tt> (which holds the unknown), and has a multiplier (acts as the coefficient of the unknown)."
   ]
  },
  {
   "cell_type": "code",
   "execution_count": null,
   "metadata": {},
   "outputs": [],
   "source": [
    "# a child class for Variable objects\n",
    "# variables are a pair of brackets, containing one term (the unknown)\n",
    "class Variable(Bracket):\n",
    "    def __init__(self, multiplier, value):\n",
    "        super().__init__([Term(value)], multiplier)\n",
    "        self.id = \"Variable\""
   ]
  },
  {
   "cell_type": "markdown",
   "metadata": {},
   "source": [
    "### Bracket Class\n",
    "A class for <tt>Bracket</tt> objects, which contain a list of other <tt>Terms</tt>/<tt>Variables</tt>/<tt>Brackets</tt>, and a multiplier (coefficient)."
   ]
  },
  {
   "cell_type": "markdown",
   "metadata": {},
   "source": [
    "#### <tt>init()</tt>\n",
    "Initialiser for <tt>Bracket</tt> Class."
   ]
  },
  {
   "cell_type": "code",
   "execution_count": null,
   "metadata": {},
   "outputs": [],
   "source": [
    "# a class for Bracket objects\n",
    "class Bracket():\n",
    "    # each Bracket has a list of the terms, and how much it has been multiplied by (default to 1)\n",
    "    def __init__(self, termList, multiplier=1):\n",
    "        self.terms = termList\n",
    "        self.multiplier = multiplier\n",
    "        self.id = \"Bracket\"\n",
    "\n",
    "Bracket([Term(-3), Variable(5, \"x\")], 4)\n",
    "# equivalent to 4(-3+5x)"
   ]
  },
  {
   "cell_type": "markdown",
   "metadata": {},
   "source": [
    "#### <tt>display()</tt>\n",
    "Displays a <tt>Bracket</tt> in a presentable format."
   ]
  },
  {
   "cell_type": "code",
   "execution_count": null,
   "metadata": {},
   "outputs": [],
   "source": [
    "# a function to print the equation in a readable format\n",
    "def display(self, rec=False):\n",
    "    # create an empty string for the equation\n",
    "    output = \"\"\n",
    "    \n",
    "    # decide if the bracket has a coefficient to write (any coefficient other than 1)\n",
    "    multiBracket = (self.id == \"Bracket\") and (self.multiplier != 1)\n",
    "    if multiBracket:\n",
    "        # write \"+\" if 0 or positive\n",
    "        if self.multiplier >= 0:\n",
    "            output += \"+\"\n",
    "        # round if possible\n",
    "        if (self.multiplier - int(self.multiplier)) == 0:\n",
    "            output += str(int(self.multiplier))\n",
    "        else:\n",
    "            output += str(self.multiplier)\n",
    "        # write the opening bracket\n",
    "        output += \"(\"\n",
    "    \n",
    "    # if the function is run recursively (needs surrounding brackets) and there isn't a coefficient, write the opening bracket\n",
    "    if rec and not multiBracket:\n",
    "        output += \"(\"\n",
    "        \n",
    "    for item in self.terms:\n",
    "        # if the item is a term...\n",
    "        if item.id == \"Term\":\n",
    "            # write the sign\n",
    "            if item.value >= 0:\n",
    "                if len(output) == 0:\n",
    "                    pass\n",
    "                elif output[-1] != \"(\":\n",
    "                    output += \"+\"\n",
    "            # round if possible\n",
    "            if (item.value - int(item.value)) == 0:\n",
    "                output += str(int(item.value))\n",
    "            else:\n",
    "                output += str(item.value)\n",
    "        # if the item is a variable...\n",
    "        elif item.id == \"Variable\":\n",
    "            if item.multiplier != 1:\n",
    "                # write the coefficient\n",
    "                if item.multiplier >= 0:\n",
    "                    if len(output) == 0:\n",
    "                        pass\n",
    "                    elif output[-1] != \"(\":\n",
    "                        output += \"+\"\n",
    "                # round if possible\n",
    "                if (item.multiplier - int(item.multiplier)) == 0:\n",
    "                    output += str(int(item.multiplier))\n",
    "                else:\n",
    "                    output += str(item.multiplier)\n",
    "            # write the value (letter)\n",
    "            output += str(item.terms[0].value)\n",
    "        # if the item is a bracket, display everything inside and wrap it in brackets\n",
    "        elif item.id == \"Bracket\":\n",
    "            output += item.display(True)\n",
    "        \n",
    "        # space to separate terms\n",
    "        output += \" \"\n",
    "    \n",
    "    # if the output string ends in a space, remove it\n",
    "    if output[-1] == \" \":\n",
    "        output = output[:-1]\n",
    "    # if a bracket was being written, write a closing bracket\n",
    "    if multiBracket or rec:\n",
    "        output += \")\"\n",
    "    # if the output string starts with a plus sign, remove it\n",
    "    if output[0] == \"+\" and not multiBracket:\n",
    "        output = output[1:]\n",
    "    return output"
   ]
  },
  {
   "cell_type": "markdown",
   "metadata": {},
   "source": [
    "#### <tt>expand()</tt>\n",
    "Multiply each term within the bracket by the multiplier."
   ]
  },
  {
   "cell_type": "code",
   "execution_count": null,
   "metadata": {},
   "outputs": [],
   "source": [
    "# a function to expand the bracket, multiplying each term by the multiplier\n",
    "def expand(self):\n",
    "    index = -1\n",
    "    # for each item in the bracket...\n",
    "    for item in self.terms:\n",
    "        index += 1\n",
    "        # if the item is a term...\n",
    "        if item.id == \"Term\":\n",
    "            # multiply the term by the bracket's multiplier\n",
    "            self.terms[index] = Term(item.value*self.multiplier)\n",
    "        # if the item is a bracket or variable...\n",
    "        elif item.id in [\"Bracket\", \"Variable\"]:\n",
    "            # multiply its multiplier by the surrounding bracket's multiplier\n",
    "            self.terms[index].multiplier *= self.multiplier\n",
    "    \n",
    "    # set the multiplier to 1 (as the bracket has now been expanded)\n",
    "    self.multiplier = 1"
   ]
  },
  {
   "cell_type": "markdown",
   "metadata": {},
   "source": [
    "#### <tt>simplify()</tt>\n",
    "Collect like terms within a bracket."
   ]
  },
  {
   "cell_type": "code",
   "execution_count": null,
   "metadata": {},
   "outputs": [],
   "source": [
    "# a function to collect like terms\n",
    "def simplify(self, termList, varSearch=False):\n",
    "    # determines whether the base term has been found\n",
    "    foundNum = False\n",
    "    # determines whether the base variable has been found\n",
    "    # by default, this function is used for brackets with no variables; it assumes the variable has already been found\n",
    "    foundVar = not varSearch\n",
    "    # if the bracket has any nested brackets, simplify those first\n",
    "    for item in termList:\n",
    "        if item.id == \"Bracket\":\n",
    "            item = item.simplify(item.terms)\n",
    "    \n",
    "    # find a \"base\" term and variable; all other terms and variables will be added to this base\n",
    "    for item in termList:\n",
    "        tempList = []\n",
    "        numIndex = 0\n",
    "        varIndex = 0\n",
    "        index = 0\n",
    "        while foundNum == False or foundVar == False:\n",
    "            tempList.append(termList[index])\n",
    "            # if the item is a term, and one hasn't been found yet, mark it as the base\n",
    "            if tempList[-1].id == \"Term\" and foundNum == False:\n",
    "                termList.pop(index)\n",
    "                foundNum = True\n",
    "                numIndex = len(tempList) - 1\n",
    "                index -= 1\n",
    "            # if the item is a variable, and one hasn't been found yet, mark it as the base\n",
    "            if tempList[-1].id == \"Variable\" and foundVar == False:\n",
    "                termList.pop(index)\n",
    "                foundVar = True\n",
    "                varIndex = len(tempList) - 1\n",
    "                index -= 1\n",
    "            index += 1\n",
    "        \n",
    "        # add each term or variable to the respective base\n",
    "        for item in termList:\n",
    "            if item.id == \"Term\":\n",
    "                # terms add value\n",
    "                tempList[numIndex].value += item.value\n",
    "            elif item.id == \"Variable\":\n",
    "                # variables add multipliers\n",
    "                tempList[varIndex].multiplier += item.multiplier\n",
    "        \n",
    "        return tempList"
   ]
  },
  {
   "cell_type": "markdown",
   "metadata": {},
   "source": [
    "#### <tt>extract()</tt>\n",
    "Remove the brackets."
   ]
  },
  {
   "cell_type": "code",
   "execution_count": null,
   "metadata": {},
   "outputs": [],
   "source": [
    "# a function to replace brackets with their contents (remove the brackets)\n",
    "def extract(self):\n",
    "    output = []\n",
    "    for item in self.terms:\n",
    "        if item.id == \"Bracket\":\n",
    "            extracted = item.extract()\n",
    "            for exItem in extracted:\n",
    "                output.append(exItem)\n",
    "        elif item.id in [\"Term\", \"Variable\"]:\n",
    "            output.append(item)\n",
    "    return output"
   ]
  },
  {
   "cell_type": "markdown",
   "metadata": {},
   "source": [
    "#### <tt>clean()</tt>\n",
    "Simplify a bracket, and any nested brackets, as much as possible."
   ]
  },
  {
   "cell_type": "code",
   "execution_count": null,
   "metadata": {},
   "outputs": [],
   "source": [
    "# a function to simplify a bracket as much as possible\n",
    "def clean(self, varSearch=False):\n",
    "    index = -1\n",
    "    for item in self.terms:\n",
    "        index +=1\n",
    "        if item.id == \"Bracket\":\n",
    "            # if the bracket has a single term...\n",
    "            if len(item.terms) == 1:\n",
    "                # expand the brackets, leaving just that term\n",
    "                item.fullExpand()\n",
    "                self.terms[index] = item.terms[0]\n",
    "            # if the item is another bracket (multiple terms)...\n",
    "            else:\n",
    "                # collect the terms within this bracket\n",
    "                item.fullExpand()\n",
    "                tempIndex = index\n",
    "                expandedBracket = item.simplify(item.terms, varSearch)\n",
    "                # remove the bracket, and replace it with its contents\n",
    "                self.terms.pop(index)\n",
    "                for term in expandedBracket:\n",
    "                    self.terms.insert(tempIndex, term)\n",
    "                    tempIndex += 1\n",
    "    # once everything has been extracted from any nested brackets, simplify the bracket\n",
    "    self.terms = self.simplify(self.terms, varSearch)"
   ]
  },
  {
   "cell_type": "markdown",
   "metadata": {},
   "source": [
    "### Equation Class\n",
    "A class for <tt>Equation</tt> objects, which contain two <tt>Bracket</tt> objects (one for each side of the equation)."
   ]
  },
  {
   "cell_type": "markdown",
   "metadata": {},
   "source": [
    "#### <tt>init()</tt>\n",
    "Initialiser for the <tt>Equation</tt> class."
   ]
  },
  {
   "cell_type": "code",
   "execution_count": null,
   "metadata": {},
   "outputs": [],
   "source": [
    "# a class for Equation objects\n",
    "# Equations have two Bracket objects for left- and right-hand sides\n",
    "class Equation():\n",
    "    def __init__(self, lhs, rhs):\n",
    "        self.lhs = lhs\n",
    "        self.rhs = rhs\n",
    "        self.id = \"Equation\""
   ]
  },
  {
   "cell_type": "markdown",
   "metadata": {},
   "source": [
    "#### <tt>rearrange()</tt>\n",
    "Move all terms from LHS to RHS, and set LHS to equal 0."
   ]
  },
  {
   "cell_type": "code",
   "execution_count": null,
   "metadata": {},
   "outputs": [],
   "source": [
    "# a function to move all terms, variables and/or brackets from the LHS to the RHS\n",
    "def rearrange(self):\n",
    "    # remove from LHS, and perform the opposite action on RHS\n",
    "    for item in self.lhs.terms:\n",
    "        if item.id == \"Term\":\n",
    "            self.rhs.terms.append(Term(-item.value))\n",
    "        elif item.id == \"Variable\":\n",
    "            self.rhs.terms.append(Variable(-item.multiplier, item.terms[0].value))\n",
    "        elif item.id == \"Bracket\":\n",
    "            self.rhs.terms.append(Bracket(item.termList, -item.multiplier))\n",
    "    # once everything has moved over, simplify the RHS\n",
    "    self.rhs.simplifyVar()\n",
    "    # LHS = 0\n",
    "    self.lhs = Bracket([Term(0)])"
   ]
  },
  {
   "cell_type": "markdown",
   "metadata": {},
   "source": [
    "#### <tt>solve()</tt>\n",
    "Solve a rearranged equation for the unknown."
   ]
  },
  {
   "cell_type": "code",
   "execution_count": null,
   "metadata": {},
   "outputs": [],
   "source": [
    "import copy\n",
    "\n",
    "# a function to solve a rearranged equation\n",
    "def solve(self):\n",
    "    # error margin\n",
    "    diff = 0.000000001\n",
    "    \n",
    "    # amount to multiply bounds by if scope needs to increase\n",
    "    increase = 10\n",
    "    \n",
    "    # initial bounds and midpoint\n",
    "    lb = -10\n",
    "    ub = 10\n",
    "    mid = (lb + ub)/2\n",
    "    \n",
    "    # initial answers \n",
    "    lb_answer = -1\n",
    "    ub_answer = -1\n",
    "    \n",
    "    # 0 must lie between the answers\n",
    "    # if both answers are below or over 0...\n",
    "    while (lb_answer > 0 and ub_answer > 0) or (lb_answer < 0 and ub_answer < 0):\n",
    "        # increase the scope\n",
    "        lb *= increase\n",
    "        ub *= increase\n",
    "        mid = (lb + ub)/2\n",
    "        \n",
    "        # recalculate answers\n",
    "        rhsCopy = copy.deepcopy(self.rhs)\n",
    "        lb_answer = self.replaceVar(rhsCopy, lb)\n",
    "        rhsCopy = copy.deepcopy(self.rhs)\n",
    "        ub_answer = self.replaceVar(rhsCopy, ub)\n",
    "    while True:\n",
    "        # calculate the lower bound answer\n",
    "        rhsCopy = copy.deepcopy(self.rhs)\n",
    "        lb_answer = self.replaceVar(rhsCopy, lb)\n",
    "        \n",
    "        # calculate the upper bound answer\n",
    "        rhsCopy = copy.deepcopy(self.rhs)\n",
    "        ub_answer = self.replaceVar(rhsCopy, ub)\n",
    "        \n",
    "        # calculate the midpoint answer\n",
    "        rhsCopy = copy.deepcopy(self.rhs)\n",
    "        mid_answer = self.replaceVar(rhsCopy, mid)\n",
    "        \n",
    "        # if the difference between answers is more than the error margin, return the midpoint of the bounds\n",
    "        # (answers are close enough to call the estimate accurate)\n",
    "        if abs(lb_answer - ub_answer) < diff:\n",
    "            return mid\n",
    "        \n",
    "        # if the answers weren't close enough, adjust bounds accordingly\n",
    "        if lb_answer < ub_answer:\n",
    "            if mid_answer > 0:\n",
    "                ub = mid\n",
    "            elif mid_answer < 0:\n",
    "                lb = mid\n",
    "        elif lb_answer > ub_answer:\n",
    "            if mid_answer > 0:\n",
    "                lb = mid\n",
    "            elif mid_answer < 0:\n",
    "                ub = mid\n",
    "        mid = (lb + ub)/2"
   ]
  },
  {
   "cell_type": "markdown",
   "metadata": {},
   "source": [
    "#### <tt>replaceVar()</tt>\n",
    "Substitute a value into the equation, and return the answer."
   ]
  },
  {
   "cell_type": "code",
   "execution_count": null,
   "metadata": {},
   "outputs": [],
   "source": [
    "# a function to substitute a value into the equation and solve it\n",
    "def replaceVar(self, bracket, sub):\n",
    "    index = 0\n",
    "    for item in bracket.terms:\n",
    "        # if the item is a bracket, replace all unknowns within it\n",
    "        if item.id == \"Bracket\":\n",
    "            item.replaceVar(item.terms, sub)\n",
    "        # if the item is a variable, replace the unknown with the value and multiply it by the variable's coefficient\n",
    "        elif item.id == \"Variable\":\n",
    "            bracket.terms[index] = Term(sub*item.multiplier)\n",
    "        index += 1\n",
    "    # having replaced all unknowns, simplify the bracket\n",
    "    bracket.fullPrepare()\n",
    "    # return the value of the remaning Term\n",
    "    return bracket.terms[0].value"
   ]
  },
  {
   "cell_type": "markdown",
   "metadata": {},
   "source": [
    "### User Input\n",
    "Functions to normalise and convert the user's input from text to objects."
   ]
  },
  {
   "cell_type": "markdown",
   "metadata": {},
   "source": [
    "#### <tt>convertEquation()</tt>\n",
    "Convert brackets to lists of terms, and any other characters to term lists or variable lists."
   ]
  },
  {
   "cell_type": "code",
   "execution_count": null,
   "metadata": {},
   "outputs": [],
   "source": [
    "# a function to convert the user's input to separate terms and brackets\n",
    "def convertEquation(equationString):\n",
    "    # create a list of two elements (everything before =, and everything after)\n",
    "    split = equationString.split(\"=\")\n",
    "    equation = []\n",
    "    # if the second element is blank (input was an expression), discard it\n",
    "    if split[-1] == \"\":\n",
    "        split = split[:-1]\n",
    "    for side in split:\n",
    "        # split the side into a list of all the characters\n",
    "        side = list(side)\n",
    "        differences = [0]\n",
    "        # while there are still brackets to convert...\n",
    "        while len(differences) > 0:\n",
    "            # find where all the bracket pairs are\n",
    "            bracketsTracker = countBracket(side)\n",
    "            # if there are no more brackets to convert...\n",
    "            if bracketsTracker == []:\n",
    "                differences = []\n",
    "                convert = True\n",
    "                while convert == True:\n",
    "                    convert = False\n",
    "                    for index, item in enumerate(side):\n",
    "                        if isinstance(item, list):\n",
    "                            # only if the list is a bracket...\n",
    "                            # (lists can be terms)\n",
    "                            if item[-1] == \"bracket\":\n",
    "                                # extract that bracket and flag that the side needs to be formatted\n",
    "                                side[index] = side[index][0]\n",
    "                                convert = True\n",
    "                    # if the side is flagged, format it\n",
    "                    if convert == True:\n",
    "                        side = convertBracket(side)\n",
    "            # if there is at least one pair of brackets...\n",
    "            else:\n",
    "                differences = []\n",
    "                # calculate the range of each pair of brackets\n",
    "                for index, item in enumerate(bracketsTracker):\n",
    "                    differences.append(item[1] - item[0])\n",
    "                \n",
    "                # find the smallest of the differences\n",
    "                # the aim is to extract the smallest brackets first, then the larger ones\n",
    "                targetIndex = min(range(len(differences)), key=differences.__getitem__)\n",
    "                \n",
    "                # using the indexes found in countBracket(), convert the bracket into a list\n",
    "                # tag the list with \"bracket\" to signify that it is a bracket, not a term\n",
    "                expandedBracket = [convertBracket(side[bracketsTracker[targetIndex][0]:bracketsTracker[targetIndex][1]-1]), \"bracket\"]\n",
    "                \n",
    "                # replace the brackets in the original list with the converted bracket\n",
    "                side[bracketsTracker[targetIndex][0]:bracketsTracker[targetIndex][1]-1] = [expandedBracket]\n",
    "        # once the side is formatted, append it to a list\n",
    "        equation.append(side)\n",
    "    # return a list with two sides in it\n",
    "    # (or one if it's an expression)\n",
    "    return equation"
   ]
  },
  {
   "cell_type": "markdown",
   "metadata": {},
   "source": [
    "#### <tt>convertBracket()</tt>\n",
    "Collect characters and objects within a bracket, grouping them into terms."
   ]
  },
  {
   "cell_type": "code",
   "execution_count": null,
   "metadata": {},
   "outputs": [],
   "source": [
    "# a function to collect characters and objects in a bracket, and separate them into terms\n",
    "def convertBracket(bracketList):\n",
    "    # if the first item isn't a list and doesn't have a sign, add a plus sign to the start of the bracket\n",
    "    if (not isinstance(bracketList[0], list)) and (bracketList[0] != \"-\"):\n",
    "        bracketList.insert(0, \"+\")\n",
    "    \n",
    "    termList = []\n",
    "    term = []\n",
    "    \n",
    "    # decides if a term is currently being compiled\n",
    "    finding = False\n",
    "    \n",
    "    for index, character in enumerate(list(bracketList)):\n",
    "        # if the character is a sign, this signifies the start of a term\n",
    "        if character in [\"-\", \"+\"]:\n",
    "            # if a term is currently being compiled...\n",
    "            if finding:\n",
    "                # take what has been compiled, and append it to the termList as a finished term\n",
    "                termList.append(term)\n",
    "                # clear the term\n",
    "                term = []\n",
    "                # no longer compiling a term\n",
    "                finding = False\n",
    "            # if a term is not currently being compiled...\n",
    "            if not finding:\n",
    "                # add the sign to the term\n",
    "                term.append(character)\n",
    "                # start compiling a term\n",
    "                finding = True\n",
    "        # if the character is a list, it needs to be converted to a bracket\n",
    "        if isinstance(character, list) and finding:\n",
    "            # remove the \"bracket\" tag if it's there\n",
    "            tagCheck = False\n",
    "            if character[-1] == \"bracket\":\n",
    "                tagCheck = True\n",
    "                character = character[:-1]\n",
    "            \n",
    "            # convert each item inside the list to the corresponding object\n",
    "            toInsert = []\n",
    "            for item in character:\n",
    "                generatedTerms = genTerms(item)\n",
    "                for item in generatedTerms:\n",
    "                    toInsert.append(item)\n",
    "\n",
    "            # create a bracket from the list of items, using the current value being compiled as the multiplier\n",
    "            toAppend = Bracket(toInsert, genTerms(term)[0].value)\n",
    "            \n",
    "            # if it was there originally, add the \"bracket\" tag again\n",
    "            if tagCheck:\n",
    "                toAppend = [toAppend]\n",
    "                toAppend.append(\"bracket\")\n",
    "            \n",
    "            termList.append(toAppend)\n",
    "            # clear the term and start searching again\n",
    "            term = []\n",
    "            finding = False\n",
    "        # if the character is already a Bracket object, append it to the termList\n",
    "        elif isinstance(character, Bracket):\n",
    "            termList.append(character)\n",
    "        # if the character is a letter, number or decimal point, append it to the term being compiled\n",
    "        elif character.isalnum() or character == \".\":\n",
    "            term.append(character)\n",
    "    \n",
    "    # if a term is being compiled and hasn't already been added to the list, add it\n",
    "    if term != []:\n",
    "        termList.append(term)\n",
    "    return termList"
   ]
  },
  {
   "cell_type": "markdown",
   "metadata": {},
   "source": [
    "#### <tt>countBracket()</tt>\n",
    "Manage the indexes of the bracket pairs."
   ]
  },
  {
   "cell_type": "code",
   "execution_count": null,
   "metadata": {},
   "outputs": [],
   "source": [
    "# a function to find where the bracket pairs are in a bracket\n",
    "def countBracket(bracketList):\n",
    "    bracketTracker = []\n",
    "    deleted = False\n",
    "    prev = []\n",
    "    current = []\n",
    "    while True:\n",
    "        if (bracketList.count(\"(\") > 0) or (bracketList.count(\")\") > 0):\n",
    "            # get the starting and closing indexes of one pair of brackets\n",
    "            # for the first time, this will delete the bracket characters\n",
    "            bracketIndex = countBracketProcess(bracketList, deleted)\n",
    "            # add this pair of indexes to the tracker\n",
    "            bracketTracker.append(bracketIndex)\n",
    "            # after the first pass, stop deleting brackets\n",
    "            deleted = True\n",
    "        \n",
    "        # record the current tracker\n",
    "        current = bracketTracker\n",
    "        # if the tracker hasn't changed from the previous pass, no brackets remain; return the list of pairs\n",
    "        if prev == current:\n",
    "            return bracketTracker\n",
    "        # if it has changed, move on to the next pass\n",
    "        else:\n",
    "            prev = current"
   ]
  },
  {
   "cell_type": "markdown",
   "metadata": {},
   "source": [
    "#### <tt>countBracketProcess()</tt>\n",
    "Find the indexes of the opening and closing brackets in a pair."
   ]
  },
  {
   "cell_type": "code",
   "execution_count": null,
   "metadata": {},
   "outputs": [],
   "source": [
    "# a function to find the start and end of one pair of brackets\n",
    "def countBracketProcess(bracketList, deleted):\n",
    "    foundPair = False\n",
    "    for index, character in enumerate(bracketList):\n",
    "        if not foundPair:\n",
    "            # find where the latest bracket starts\n",
    "            if character == \"(\":\n",
    "                bracketStart = index\n",
    "            # once this bracket ends, return the indexes of the start and end\n",
    "            elif character == \")\":\n",
    "                bracketEnd = index\n",
    "                foundPair = True\n",
    "                # if it's the first pass, delete these characters\n",
    "                if not deleted:\n",
    "                    del bracketList[bracketStart]\n",
    "                    del bracketList[bracketEnd - 1]\n",
    "                return [bracketStart, bracketEnd]"
   ]
  },
  {
   "cell_type": "markdown",
   "metadata": {},
   "source": [
    "#### <tt>genTerms()</tt>\n",
    "Given a list of items, manage which ones can be converted to objects."
   ]
  },
  {
   "cell_type": "code",
   "execution_count": null,
   "metadata": {},
   "outputs": [],
   "source": [
    "# a function to generate Term or Variable objects from lists of characters\n",
    "def genTerms(equationSide):\n",
    "    termList = []\n",
    "    # remove the \"bracket\" tag if it's there\n",
    "    equationSide = delBracketTag(equationSide)\n",
    "    \n",
    "    for index, item in enumerate(equationSide):\n",
    "        # if the bracket passed in has nested functions...\n",
    "        if isinstance(item, list):\n",
    "            tempIndex = index\n",
    "            # generate terms for everything inside, and replace the nested function with the generated terms\n",
    "            generatedTerms = genTerms(item)\n",
    "            equationSide.pop(index)\n",
    "            for term in generatedTerms:\n",
    "                equationSide.insert(tempIndex, term)\n",
    "                tempIndex +=1\n",
    "    \n",
    "    delList = []\n",
    "    \n",
    "    for index, item in enumerate(equationSide):\n",
    "        # if the item is a Term, Variable or Bracket...\n",
    "        if isinstance(item, (Term, Variable, Bracket)):\n",
    "            # add it to the term list\n",
    "            termList.append(equationSide[index])\n",
    "            \n",
    "            # add it to the list of items to delete from the original\n",
    "            delList.append(equationSide[index])\n",
    "        \n",
    "    \n",
    "    for delItem in delList:\n",
    "        # delete all items needed\n",
    "        while delItem in equationSide:\n",
    "            equationSide.remove(delItem)\n",
    "\n",
    "    # if anything is left, form a term out of it\n",
    "    if equationSide != []:\n",
    "        termList.append(genTermsProcess(equationSide))\n",
    "    return termList"
   ]
  },
  {
   "cell_type": "markdown",
   "metadata": {},
   "source": [
    "#### <tt>genTermsProcess()</tt>\n",
    "Given a list of characters, convert it to an object."
   ]
  },
  {
   "cell_type": "code",
   "execution_count": null,
   "metadata": {},
   "outputs": [],
   "source": [
    "# a function to form the objects from characters\n",
    "def genTermsProcess(termBracket):\n",
    "    unknown = \"\"\n",
    "    # extract the sign from the term\n",
    "    sign = termBracket.pop(0)\n",
    "    # if nothing is left (because +1 is written as just +, so removing the sign leaves nothing)...\n",
    "    if termBracket == []:\n",
    "        # put a 1 in its place\n",
    "        termBracket = [\"1\"]\n",
    "    # form a string from all the characters in the term\n",
    "    value = \"\".join(termBracket)\n",
    "    \n",
    "    # remove brackets and decimal points (these count as non-numeric, but we only want to check for unknowns/letters)\n",
    "    testVal = value\n",
    "    testVal = testVal.replace(\"(\", \"\")\n",
    "    testVal = testVal.replace(\")\", \"\")\n",
    "    testVal = testVal.replace(\".\", \"\")\n",
    "    \n",
    "    # if there is a letter...\n",
    "    if not testVal.isnumeric():\n",
    "        # convert the string back into a list\n",
    "        value = list(value)\n",
    "        for index, character in enumerate(value):\n",
    "            # find the unknown\n",
    "            if character.isalpha():\n",
    "                unknown = value.pop(index)\n",
    "        \n",
    "        # if nothing is left (because the term was just x, so there isn't a coefficient written)...\n",
    "        if value == []:\n",
    "            # put a 1 in its place\n",
    "            value = [\"1\"]\n",
    "        \n",
    "        # make the value a string again\n",
    "        value = \"\".join(value)\n",
    "        # make the value negative if the sign was -\n",
    "        if sign == \"-\":\n",
    "            value = \"-\" + value\n",
    "        \n",
    "        # return a Variable object, with the unknown letter as the value, and the number value as the multiplier\n",
    "        return Variable(float(value), unknown)\n",
    "    # if there isn't a letter\n",
    "    else:\n",
    "        # make the value negative if the sign was -\n",
    "        if sign == \"-\":\n",
    "            value = \"-\" + value\n",
    "        \n",
    "        # return a Term object\n",
    "        return Term(float(value))"
   ]
  },
  {
   "cell_type": "markdown",
   "metadata": {},
   "source": [
    "#### <tt>full()</tt>\n",
    "A compilation of the functions outlined above, in both userInput.py and classes.py, to perform the full operation."
   ]
  },
  {
   "cell_type": "code",
   "execution_count": null,
   "metadata": {},
   "outputs": [],
   "source": [
    "# a function to run the whole program (user input, simplifying, solving)\n",
    "def full():\n",
    "    # user inputs their equation\n",
    "    equationString = str(input(\"Enter your equation: \"))\n",
    "    \n",
    "    # if it is an equation...\n",
    "    if determineType(equationString) == \"Equation\":\n",
    "        # remove spaces\n",
    "        equationString = normalise(equationString)\n",
    "        \n",
    "        # convert each side, splitting up each term and bracket\n",
    "        equationList = convertEquation(equationString)\n",
    "        \n",
    "        # form a left- and right-hand side from the converted sides\n",
    "        lhs = Bracket(genTerms(equationList[0]))\n",
    "        rhs = Bracket(genTerms(equationList[1]))\n",
    "        \n",
    "        # form a full Equation using the LHS and RHS\n",
    "        equation = Equation(lhs, rhs)\n",
    "        \n",
    "        # display the final answers to the user\n",
    "        print(\"-----------------------------\")\n",
    "        print(\"Equation:\\t\" + equation.display())                   # first, display the original equation\n",
    "        equation.sidesPrepare()\n",
    "        print(\"Simplified:\\t\" + equation.display())                 # second, display the equation with both sides simplified\n",
    "        equation.rearrange()\n",
    "        print(\"Rearranged:\\t\" + equation.display())                 # third, display the rearranged equation\n",
    "        print(\"\\nAnswer =\\t\" + str(round(equation.solve(), 5)))     # lastly, display the answer, rounded to 5dp\n",
    "        print(\"-----------------------------\")\n",
    "    \n",
    "    # if it is an expression\n",
    "    elif determineType(equationString) == \"Bracket\":\n",
    "        # remove spaces\n",
    "        bracketString = normalise(equationString)\n",
    "        \n",
    "        # add an equals sign to the end\n",
    "        # this makes it appear as an equation, but only one side of it will be converted\n",
    "        bracketString += \"=\"\n",
    "        \n",
    "        # convert the expression, splitting up each term and bracket\n",
    "        bracketList = convertEquation(bracketString)\n",
    "        \n",
    "        # form a bracket from this\n",
    "        bracket = Bracket(genTerms(bracketList[0]))\n",
    "        \n",
    "        # display the final answers to the user\n",
    "        print(\"-----------------------------\")\n",
    "        print(\"Expression:\\t\" + bracket.display())                  # first, display the original expression\n",
    "        bracket.fullPrepare()\n",
    "        print(\"Simplified:\\t\" + bracket.display())                  # then, display the simplified expression\n",
    "        print(\"-----------------------------\")"
   ]
  },
  {
   "cell_type": "markdown",
   "metadata": {},
   "source": [
    "## Examples"
   ]
  },
  {
   "cell_type": "code",
   "execution_count": null,
   "metadata": {},
   "outputs": [],
   "source": [
    "from classes import *\n",
    "from userInput import *\n",
    "\n",
    "full()"
   ]
  },
  {
   "cell_type": "markdown",
   "metadata": {},
   "source": [
    "<tt>\n",
    "-----------------------------\n",
    "<br>Equation:&nbsp;&nbsp;&nbsp;&nbsp;5(4x +3) = 54(45 +3x)\n",
    "<br>Simplified:&nbsp;&nbsp;20x +15 = 2430 +162x\n",
    "<br>Rearranged:&nbsp;&nbsp;0 = 2415 +142x\n",
    "\n",
    "<br>Answer =&nbsp;&nbsp;&nbsp;&nbsp;&nbsp;-17.00704\n",
    "<br>-----------------------------\n",
    "<br>\n",
    "</tt>"
   ]
  },
  {
   "cell_type": "markdown",
   "metadata": {},
   "source": [
    "<tt>\n",
    "-----------------------------\n",
    "<br>Equation:&nbsp;&nbsp;&nbsp;&nbsp;4(+6(67 +3x) +5(53 +9x)) = 3(+5(x +4) +34(5x +9))\n",
    "<br>Simplified:&nbsp;&nbsp;2668 +252x = 525x +978\n",
    "<br>Rearranged:&nbsp;&nbsp;0 = 273x -1690\n",
    "\n",
    "<br>Answer =&nbsp;&nbsp;&nbsp;&nbsp;&nbsp;6.19048\n",
    "<br>-----------------------------\n",
    "</tt>"
   ]
  },
  {
   "cell_type": "markdown",
   "metadata": {},
   "source": [
    "<tt>\n",
    "-----------------------------\n",
    "<br>Expression:&nbsp;&nbsp;45(65 +3x)\n",
    "<br>Simplified:&nbsp;&nbsp;2925 +135x\n",
    "<br>-----------------------------\n",
    "</tt>"
   ]
  },
  {
   "cell_type": "markdown",
   "metadata": {},
   "source": [
    "<tt>\n",
    "-----------------------------\n",
    "<br>Equation:&nbsp;&nbsp;&nbsp;&nbsp;34556(54 x) = 3(45 -3x)\n",
    "<br>Simplified:&nbsp;&nbsp;1866024 +34556x = 135 -9x\n",
    "<br>Rearranged:&nbsp;&nbsp;0 = -1865889 -34565x\n",
    "\n",
    "<br>Answer =&nbsp;&nbsp;&nbsp;&nbsp;&nbsp;-53.98203\n",
    "<br>-----------------------------\n",
    "</tt>"
   ]
  },
  {
   "cell_type": "markdown",
   "metadata": {},
   "source": [
    "## Evaluation"
   ]
  },
  {
   "cell_type": "markdown",
   "metadata": {},
   "source": [
    "The program largely works as intended, although some design flaws prevent it from being fully fleshed-out:\n",
    "- The <tt>countBracket()</tt> function uses a process which only works for 1 or 2 nested brackets.\n",
    "- The bracket tag system is somewhat cumbersome, and introduced some issues during testing.\n",
    "- Some simple equations or expressions, particularly those without unknowns, are not processed correctly.\n",
    "- A lack of a GUI or more intuitive interface makes the program harder to use, and easier for the user to make a mistake when inputting their equation/expression.\n",
    "\n",
    "In most cases, the program is able to solve the equations very quickly, and displays a useful amount of information to the user, giving it potential as a learning tool. However, it could be rewritten with the above issues in mind and simplified for a more efficient and effective program.\n",
    "\n",
    "It functions as a competent prototype of the concept, but the algorithm needs more polishing and a more accessible interface."
   ]
  }
 ],
 "metadata": {
  "interpreter": {
   "hash": "4051996972a7c5e99a07e680c6195496de3d1b987b16df4e39ccbc95db397a1c"
  },
  "kernelspec": {
   "display_name": "Python 3.8.2 32-bit",
   "language": "python",
   "name": "python3"
  },
  "language_info": {
   "codemirror_mode": {
    "name": "ipython",
    "version": 3
   },
   "file_extension": ".py",
   "mimetype": "text/x-python",
   "name": "python",
   "nbconvert_exporter": "python",
   "pygments_lexer": "ipython3",
   "version": "3.8.2"
  },
  "orig_nbformat": 4
 },
 "nbformat": 4,
 "nbformat_minor": 2
}
